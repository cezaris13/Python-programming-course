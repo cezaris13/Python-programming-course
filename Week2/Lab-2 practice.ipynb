{
 "cells": [
  {
   "cell_type": "markdown",
   "metadata": {
    "collapsed": false,
    "id": "WUynhN_JzR4P"
   },
   "source": [
    "# Lab-2 Practice\n",
    "\n",
    "Please read and understand each cell/line of code carefully and answer the embedded exercises. Feel free to try each cell and play around with it to try different output.\n",
    "\n",
    "🔥**There will be a canvas quiz where you will get simillar questions like the ones in this notebook** \n",
    "\n",
    "Enjoy 😄..."
   ]
  },
  {
   "cell_type": "markdown",
   "metadata": {
    "collapsed": false,
    "id": "DkmRa9GL1hed"
   },
   "source": [
    "**Jupyter notebook basics**\n",
    "\n",
    "- This is a markdown cell, the next ones are code cells\n",
    "- The notebook is running a kernel (here, Python), the code cells are executed by this kernel\n",
    "- Move around: `arrow keys or j, k`\n",
    "- Run a cell and go to next cell: `Shift+Enter`\n",
    "- Go to edit mode to edit a cell: `click or Enter`\n",
    "- Get help about while editing: `Shift-Tab`, press twice to get more help\n",
    "- Back to command mode from edit mode: `Esc`\n",
    "- New cell above: `a`\n",
    "- New cell below: `b`\n",
    "- Delete cell: `x`\n",
    "- Run a cell and insert new cell below: `Alt-Enter`\n",
    "\n",
    "Some useful shortcuts for **Colab notebooks**\n",
    "* Run cell: `ctrl + Enter`, \n",
    "* Add new code cell `ctrl + m + b`"
   ]
  },
  {
   "cell_type": "markdown",
   "metadata": {
    "collapsed": false,
    "id": "yX4JfY2Ew225"
   },
   "source": [
    "## Variables and types\n",
    "\n",
    "Python is dynamically typed. The types belong to the objects and not their names.\n",
    "\n",
    "For example, `a = 3` assigns the object `3` to the name `a`. The name `a` will reference the object `3` from now on.\n",
    "\n",
    "`a` can be freely reassigned later."
   ]
  },
  {
   "cell_type": "code",
   "execution_count": 1,
   "metadata": {
    "collapsed": false,
    "id": "4THtZTXcw225"
   },
   "outputs": [],
   "source": [
    "a = 3 # int\n",
    "a = True # bool\n",
    "a = 4.2 # float"
   ]
  },
  {
   "cell_type": "markdown",
   "metadata": {
    "collapsed": false,
    "id": "Q6Bn-a2Bw225"
   },
   "source": [
    "Python is strongly typed. For example, `'abc' + 3` would give an error."
   ]
  },
  {
   "cell_type": "markdown",
   "metadata": {
    "collapsed": false,
    "id": "yKWc4UJiw226"
   },
   "source": [
    "## Sequence types"
   ]
  },
  {
   "cell_type": "code",
   "execution_count": 2,
   "metadata": {
    "collapsed": false,
    "id": "FZC9scuzw227"
   },
   "outputs": [],
   "source": [
    "a = 'abc' # str\n",
    "b = [1, 2, 3, 4, 5] # list\n",
    "c = (1, 2, 3, 4) # tuple"
   ]
  },
  {
   "cell_type": "markdown",
   "metadata": {
    "collapsed": false,
    "id": "WVrWjkhLw227"
   },
   "source": [
    "Tuples are denoted by the comma. Multiple assignment is possible with tuples:"
   ]
  },
  {
   "cell_type": "code",
   "execution_count": 3,
   "metadata": {
    "collapsed": false,
    "id": "CQxNexZCw228"
   },
   "outputs": [
    {
     "name": "stdout",
     "output_type": "stream",
     "text": [
      "abcdef [1, 2, 3]\n"
     ]
    }
   ],
   "source": [
    "a, b = 'abcdef', [1, 2, 3]\n",
    "print(a,b)"
   ]
  },
  {
   "cell_type": "code",
   "execution_count": 4,
   "metadata": {
    "collapsed": false,
    "id": "ts0e3AKNw228"
   },
   "outputs": [
    {
     "data": {
      "text/plain": [
       "('abcdef', [1, 2, 3])"
      ]
     },
     "execution_count": 4,
     "metadata": {},
     "output_type": "execute_result"
    }
   ],
   "source": [
    "a, b"
   ]
  },
  {
   "cell_type": "markdown",
   "metadata": {
    "collapsed": false,
    "id": "pqVVzLAvw228"
   },
   "source": [
    "Strings and tuples are immutable: `a[0] = 'x'` gives an error."
   ]
  },
  {
   "cell_type": "code",
   "execution_count": 5,
   "metadata": {
    "collapsed": false,
    "id": "vAFrb2d_w229"
   },
   "outputs": [],
   "source": [
    "l = [1, 'afgd', True] # lists can have different types in them, although usually they don't"
   ]
  },
  {
   "cell_type": "markdown",
   "metadata": {
    "collapsed": false,
    "id": "rwahkLSjw229"
   },
   "source": [
    "### Some operations"
   ]
  },
  {
   "cell_type": "code",
   "execution_count": 6,
   "metadata": {
    "collapsed": false,
    "id": "Ug2Zmdqkw229"
   },
   "outputs": [
    {
     "data": {
      "text/plain": [
       "('a', 2)"
      ]
     },
     "execution_count": 6,
     "metadata": {},
     "output_type": "execute_result"
    }
   ],
   "source": [
    "a[0], b[1] # indexing starts from 0"
   ]
  },
  {
   "cell_type": "code",
   "execution_count": 7,
   "metadata": {
    "collapsed": false,
    "id": "tYqcmS8gw229"
   },
   "outputs": [
    {
     "data": {
      "text/plain": [
       "'abc'"
      ]
     },
     "execution_count": 7,
     "metadata": {},
     "output_type": "execute_result"
    }
   ],
   "source": [
    "a[:3] # slicing, up to but not including index 3"
   ]
  },
  {
   "cell_type": "code",
   "execution_count": 8,
   "metadata": {
    "collapsed": false,
    "id": "ud4vdKLdw22-"
   },
   "outputs": [
    {
     "data": {
      "text/plain": [
       "'def'"
      ]
     },
     "execution_count": 8,
     "metadata": {},
     "output_type": "execute_result"
    }
   ],
   "source": [
    "a[3:] # slicing from index 3"
   ]
  },
  {
   "cell_type": "code",
   "execution_count": 9,
   "metadata": {
    "collapsed": false,
    "id": "D5hW2p7Pw22-"
   },
   "outputs": [
    {
     "data": {
      "text/plain": [
       "'abcdefaa'"
      ]
     },
     "execution_count": 9,
     "metadata": {},
     "output_type": "execute_result"
    }
   ],
   "source": [
    "a + 'aa' # concatenation"
   ]
  },
  {
   "cell_type": "code",
   "execution_count": 10,
   "metadata": {
    "collapsed": false,
    "id": "5LdYUPuDw22-"
   },
   "outputs": [
    {
     "data": {
      "text/plain": [
       "'abcdef'"
      ]
     },
     "execution_count": 10,
     "metadata": {},
     "output_type": "execute_result"
    }
   ],
   "source": [
    "a[:3] + a[3:] # gives back the original sequence"
   ]
  },
  {
   "cell_type": "code",
   "execution_count": 11,
   "metadata": {
    "collapsed": false,
    "id": "eMznmtpLw22_"
   },
   "outputs": [
    {
     "data": {
      "text/plain": [
       "'bc'"
      ]
     },
     "execution_count": 11,
     "metadata": {},
     "output_type": "execute_result"
    }
   ],
   "source": [
    "a[1:3] # from index 1 to 3"
   ]
  },
  {
   "cell_type": "code",
   "execution_count": 12,
   "metadata": {
    "collapsed": false,
    "id": "efwjRvpOw22_"
   },
   "outputs": [
    {
     "data": {
      "text/plain": [
       "'f'"
      ]
     },
     "execution_count": 12,
     "metadata": {},
     "output_type": "execute_result"
    }
   ],
   "source": [
    "a[-1] # the last element"
   ]
  },
  {
   "cell_type": "code",
   "execution_count": 13,
   "metadata": {
    "collapsed": false,
    "id": "ZC1aNwe1w22_"
   },
   "outputs": [
    {
     "data": {
      "text/plain": [
       "'e'"
      ]
     },
     "execution_count": 13,
     "metadata": {},
     "output_type": "execute_result"
    }
   ],
   "source": [
    "a[-2]"
   ]
  },
  {
   "cell_type": "code",
   "execution_count": 14,
   "metadata": {
    "collapsed": false,
    "id": "0XKH0tl6w22_"
   },
   "outputs": [
    {
     "data": {
      "text/plain": [
       "(6, 3, 4)"
      ]
     },
     "execution_count": 14,
     "metadata": {},
     "output_type": "execute_result"
    }
   ],
   "source": [
    "len(a), len(b), len(c) # lengths"
   ]
  },
  {
   "cell_type": "code",
   "execution_count": 15,
   "metadata": {
    "collapsed": false,
    "id": "jMv6XNZ6w23A"
   },
   "outputs": [
    {
     "name": "stdout",
     "output_type": "stream",
     "text": [
      "[1, 2, 3]\n",
      "[1, 2, 3, 34]\n"
     ]
    }
   ],
   "source": [
    "# appending to a list\n",
    "print(b)\n",
    "b.append(34)\n",
    "print(b)"
   ]
  },
  {
   "cell_type": "code",
   "execution_count": 16,
   "metadata": {
    "collapsed": false,
    "id": "9A332F72w23A"
   },
   "outputs": [
    {
     "name": "stdout",
     "output_type": "stream",
     "text": [
      "[1, 2, 3, 34]\n",
      "[2, 3, 34]\n",
      "[2, 3]\n"
     ]
    }
   ],
   "source": [
    "# popping elements from a list\n",
    "print(b)\n",
    "b.pop(0)\n",
    "print(b)\n",
    "b.pop()\n",
    "print(b)"
   ]
  },
  {
   "cell_type": "markdown",
   "metadata": {
    "collapsed": false,
    "id": "6FIL-orHw23A"
   },
   "source": [
    "## Some expressions and statements"
   ]
  },
  {
   "cell_type": "code",
   "execution_count": 17,
   "metadata": {
    "collapsed": false,
    "id": "ZqiZ45FOw23A"
   },
   "outputs": [
    {
     "data": {
      "text/plain": [
       "(7, 12)"
      ]
     },
     "execution_count": 17,
     "metadata": {},
     "output_type": "execute_result"
    }
   ],
   "source": [
    "3 + 4, 3 * 4"
   ]
  },
  {
   "cell_type": "code",
   "execution_count": 18,
   "metadata": {
    "collapsed": false,
    "id": "TspzFs7ow23A"
   },
   "outputs": [
    {
     "data": {
      "text/plain": [
       "5"
      ]
     },
     "execution_count": 18,
     "metadata": {},
     "output_type": "execute_result"
    }
   ],
   "source": [
    "a = 2\n",
    "a += 3\n",
    "a"
   ]
  },
  {
   "cell_type": "code",
   "execution_count": 19,
   "metadata": {
    "collapsed": false,
    "id": "LsUcyjE_w23B"
   },
   "outputs": [
    {
     "data": {
      "text/plain": [
       "(3.25, 3)"
      ]
     },
     "execution_count": 19,
     "metadata": {},
     "output_type": "execute_result"
    }
   ],
   "source": [
    "13 / 4, 13 // 4"
   ]
  },
  {
   "cell_type": "code",
   "execution_count": 20,
   "metadata": {
    "collapsed": false,
    "id": "HhE1X_ypw23B"
   },
   "outputs": [
    {
     "data": {
      "text/plain": [
       "1"
      ]
     },
     "execution_count": 20,
     "metadata": {},
     "output_type": "execute_result"
    }
   ],
   "source": [
    "3 % 2"
   ]
  },
  {
   "cell_type": "code",
   "execution_count": 21,
   "metadata": {
    "collapsed": false,
    "id": "CswR3htXw23B"
   },
   "outputs": [
    {
     "data": {
      "text/plain": [
       "(False, True, False)"
      ]
     },
     "execution_count": 21,
     "metadata": {},
     "output_type": "execute_result"
    }
   ],
   "source": [
    "3 == 4, 3 < 4, 4 < 3"
   ]
  },
  {
   "cell_type": "code",
   "execution_count": 22,
   "metadata": {
    "collapsed": false,
    "id": "vxwZZEzYw23B"
   },
   "outputs": [
    {
     "data": {
      "text/plain": [
       "True"
      ]
     },
     "execution_count": 22,
     "metadata": {},
     "output_type": "execute_result"
    }
   ],
   "source": [
    "3 < 4 < 5"
   ]
  },
  {
   "cell_type": "markdown",
   "metadata": {
    "collapsed": false,
    "id": "taoCDWRSw23B"
   },
   "source": [
    "### if, for, while"
   ]
  },
  {
   "cell_type": "code",
   "execution_count": 23,
   "metadata": {
    "collapsed": false,
    "id": "xGhGZH6Rw23C"
   },
   "outputs": [
    {
     "name": "stdout",
     "output_type": "stream",
     "text": [
      "The first elif branch.\n"
     ]
    }
   ],
   "source": [
    "a = 4\n",
    "b = 3\n",
    "if a < b:\n",
    "    print(\"The condition is true.\")\n",
    "elif b < a:\n",
    "    print(\"The first elif branch.\")\n",
    "else: print(\"The else branch.\")"
   ]
  },
  {
   "cell_type": "code",
   "execution_count": 24,
   "metadata": {
    "collapsed": false,
    "id": "-VQskBYZw23C"
   },
   "outputs": [
    {
     "data": {
      "text/plain": [
       "[0, 1, 2, 3, 4, 5, 6, 7, 8, 9]"
      ]
     },
     "execution_count": 24,
     "metadata": {},
     "output_type": "execute_result"
    }
   ],
   "source": [
    "l = list(range(10))\n",
    "l"
   ]
  },
  {
   "cell_type": "code",
   "execution_count": 25,
   "metadata": {
    "collapsed": false,
    "id": "qpKU2iogw23C"
   },
   "outputs": [
    {
     "name": "stdout",
     "output_type": "stream",
     "text": [
      "0\n",
      "1\n",
      "2\n",
      "3\n",
      "4\n",
      "5\n",
      "6\n",
      "7\n",
      "8\n",
      "9\n"
     ]
    }
   ],
   "source": [
    "for e in l:\n",
    "    print(e)"
   ]
  },
  {
   "cell_type": "code",
   "execution_count": 26,
   "metadata": {
    "collapsed": false,
    "id": "yMXMXBJXw23D"
   },
   "outputs": [
    {
     "name": "stdout",
     "output_type": "stream",
     "text": [
      "1\n",
      "2\n",
      "3\n",
      "6\n",
      "9\n"
     ]
    }
   ],
   "source": [
    "x = 1\n",
    "while x < 10:\n",
    "    print(x)\n",
    "    if x % 3 != 0:\n",
    "        x += 1\n",
    "    else:\n",
    "        x += 3"
   ]
  },
  {
   "cell_type": "markdown",
   "metadata": {
    "collapsed": false,
    "id": "lGm_g_SVw23D"
   },
   "source": [
    "#### **Exercise**: Add all the even numbers in l and print the result."
   ]
  },
  {
   "cell_type": "code",
   "execution_count": 27,
   "metadata": {
    "collapsed": false,
    "id": "fGFDffZnw23D",
    "scrolled": true
   },
   "outputs": [
    {
     "name": "stdout",
     "output_type": "stream",
     "text": [
      "20\n"
     ]
    }
   ],
   "source": [
    "sum =0\n",
    "for i in l:\n",
    "    if i % 2 == 0:\n",
    "        sum+=i\n",
    "print (sum)"
   ]
  },
  {
   "cell_type": "markdown",
   "metadata": {
    "collapsed": false,
    "id": "eTV_6jkmw23D"
   },
   "source": [
    "#### **Exercise**: Collect all the even number in l into a new list l_even."
   ]
  },
  {
   "cell_type": "code",
   "execution_count": 28,
   "metadata": {
    "collapsed": false,
    "executionInfo": {
     "elapsed": 3,
     "status": "ok",
     "timestamp": 1663960336009,
     "user": {
      "displayName": "Yanof Nasr",
      "userId": "00586970900925743666"
     },
     "user_tz": -120
    },
    "id": "7QfEr4PQw23D"
   },
   "outputs": [
    {
     "name": "stdout",
     "output_type": "stream",
     "text": [
      "[0, 2, 4, 6, 8]\n"
     ]
    }
   ],
   "source": [
    "l_even=[]\n",
    "for i in l:\n",
    "    if i % 2 == 0:\n",
    "        l_even.append(i)\n",
    "print (l_even)"
   ]
  },
  {
   "cell_type": "markdown",
   "metadata": {
    "collapsed": false,
    "id": "2dpimr_aw23D"
   },
   "source": [
    "#### **Exercise**: Solve the [FizzBuzz problem](https://en.wikipedia.org/wiki/Fizz_buzz)"
   ]
  },
  {
   "cell_type": "code",
   "execution_count": 29,
   "metadata": {
    "collapsed": false,
    "executionInfo": {
     "elapsed": 268,
     "status": "ok",
     "timestamp": 1663960341005,
     "user": {
      "displayName": "Yanof Nasr",
      "userId": "00586970900925743666"
     },
     "user_tz": -120
    },
    "id": "CI8HumIHw23D"
   },
   "outputs": [
    {
     "name": "stdout",
     "output_type": "stream",
     "text": [
      "fizzbuzz\n",
      "1\n",
      "2\n",
      "fizz\n",
      "4\n",
      "buzz\n",
      "fizz\n",
      "7\n",
      "8\n",
      "fizz\n"
     ]
    }
   ],
   "source": [
    "\n",
    "for i in l:\n",
    "    if i % 15 == 0:\n",
    "        print(\"fizzbuzz\")\n",
    "    elif i % 3 == 0:\n",
    "        print (\"fizz\")\n",
    "    elif i %5  == 0:\n",
    "        print (\"buzz\")\n",
    "    else:\n",
    "        print(i)"
   ]
  },
  {
   "cell_type": "markdown",
   "metadata": {
    "collapsed": false,
    "id": "KWS3CLsjw23E"
   },
   "source": [
    "### break, continue, else\n",
    "\n"
   ]
  },
  {
   "cell_type": "code",
   "execution_count": 30,
   "metadata": {
    "collapsed": false,
    "id": "_L8m_qZ_w23E"
   },
   "outputs": [
    {
     "data": {
      "text/plain": [
       "[4, 2, 1, 6, 5, 3, 0, 8, 9, 7]"
      ]
     },
     "execution_count": 30,
     "metadata": {},
     "output_type": "execute_result"
    }
   ],
   "source": [
    "l = list(range(10))\n",
    "import random\n",
    "random.shuffle(l)\n",
    "l"
   ]
  },
  {
   "cell_type": "markdown",
   "metadata": {
    "collapsed": false,
    "id": "ALZC3JRww23E"
   },
   "source": [
    "#### 3 versions of a search"
   ]
  },
  {
   "cell_type": "code",
   "execution_count": 31,
   "metadata": {
    "collapsed": false,
    "id": "HUZPZp5Sw23E"
   },
   "outputs": [
    {
     "name": "stdout",
     "output_type": "stream",
     "text": [
      "Found 8 at index 7\n"
     ]
    }
   ],
   "source": [
    "to_find = 8\n",
    "i = 0\n",
    "for e in l:\n",
    "    if e == to_find:\n",
    "        print(f'Found {to_find} at index {i}')\n",
    "        break\n",
    "    i += 1\n",
    "else:\n",
    "    print(f'{to_find} was not found in the list')"
   ]
  },
  {
   "cell_type": "code",
   "execution_count": 32,
   "metadata": {
    "collapsed": false,
    "id": "Bh1FlZyMw23E"
   },
   "outputs": [
    {
     "data": {
      "text/plain": [
       "[(0, 4),\n",
       " (1, 2),\n",
       " (2, 1),\n",
       " (3, 6),\n",
       " (4, 5),\n",
       " (5, 3),\n",
       " (6, 0),\n",
       " (7, 8),\n",
       " (8, 9),\n",
       " (9, 7)]"
      ]
     },
     "execution_count": 32,
     "metadata": {},
     "output_type": "execute_result"
    }
   ],
   "source": [
    "list(enumerate(l))"
   ]
  },
  {
   "cell_type": "code",
   "execution_count": 33,
   "metadata": {
    "collapsed": false,
    "id": "fC0rwyHmw23E"
   },
   "outputs": [
    {
     "name": "stdout",
     "output_type": "stream",
     "text": [
      "Found 8 at index 7\n"
     ]
    }
   ],
   "source": [
    "to_find = 8\n",
    "for i, e in enumerate(l):\n",
    "    if e == to_find:\n",
    "        print(f'Found {to_find} at index {i}')\n",
    "        break\n",
    "    i += 1\n",
    "else:\n",
    "    print(f'{to_find} was not found in the list')"
   ]
  },
  {
   "cell_type": "code",
   "execution_count": 34,
   "metadata": {
    "collapsed": false,
    "id": "Lo7-Xonvw23F"
   },
   "outputs": [
    {
     "name": "stdout",
     "output_type": "stream",
     "text": [
      "Found 8 at index 7\n"
     ]
    }
   ],
   "source": [
    "to_find = 8\n",
    "print(f'Found {to_find} at index {l.index(to_find)}') # we would have to handle the exception if the element is not in the list"
   ]
  },
  {
   "cell_type": "markdown",
   "metadata": {
    "collapsed": false,
    "id": "7QNuzfC7w23F"
   },
   "source": [
    "#### continue"
   ]
  },
  {
   "cell_type": "code",
   "execution_count": 35,
   "metadata": {
    "collapsed": false,
    "id": "jrSDgw0Zw23F"
   },
   "outputs": [
    {
     "name": "stdout",
     "output_type": "stream",
     "text": [
      "0\n",
      "3\n",
      "6\n",
      "9\n"
     ]
    }
   ],
   "source": [
    "for i in range(10):\n",
    "    if i % 3 != 0:\n",
    "        continue\n",
    "    print(i)"
   ]
  },
  {
   "cell_type": "markdown",
   "metadata": {
    "collapsed": false,
    "id": "MeEvx15Gw23F"
   },
   "source": [
    "#### **Exercise**: Find the largest even number in l"
   ]
  },
  {
   "cell_type": "code",
   "execution_count": 36,
   "metadata": {
    "collapsed": false,
    "id": "sd_N-hyFw23G"
   },
   "outputs": [
    {
     "data": {
      "text/plain": [
       "[7, 1, 8, 3, 15, 9, 10, 5, 2, 11, 4, 13, 17, 14, 18, 19, 16, 6, 0, 12]"
      ]
     },
     "execution_count": 36,
     "metadata": {},
     "output_type": "execute_result"
    }
   ],
   "source": [
    "l = list(range(20))\n",
    "random.shuffle(l)\n",
    "l"
   ]
  },
  {
   "cell_type": "code",
   "execution_count": 37,
   "metadata": {
    "collapsed": false,
    "id": "sjQ7w8IYw23G"
   },
   "outputs": [
    {
     "name": "stdout",
     "output_type": "stream",
     "text": [
      "18\n",
      "[7, 1, 8, 3, 15, 9, 10, 5, 2, 11, 4, 13, 17, 14, 18, 19, 16, 6, 0, 12]\n"
     ]
    }
   ],
   "source": [
    "maxNum = -1\n",
    "for i in l:\n",
    "    if maxNum < i and i % 2 == 0:\n",
    "        maxNum = i\n",
    "print(maxNum)\n",
    "print (l)"
   ]
  },
  {
   "cell_type": "markdown",
   "metadata": {
    "collapsed": false,
    "id": "BeBIDwI_w23G"
   },
   "source": [
    "## List comprehensions(new concept)\n",
    "\n",
    "A Python list comprehension consists of brackets containing the expression, which is executed for each element along with the for loop to iterate over each element in the Python list. \n",
    "\n",
    "Python List comprehension provides a much more short syntax for creating a new list based on the values of an existing list.\n",
    "\n",
    "**Advantages of List Comprehension**\n",
    "* More time-efficient and space-efficient than loops.\n",
    "* Require fewer lines of code.\n",
    "* Transforms iterative statement into a formula.\n",
    "\n",
    "**Syntax of  List Comprehension**\n",
    "\n",
    "`newList = [ expression(element) for element in oldList if condition ]`\n",
    "\n",
    "More info can be found [here](https://www.w3schools.com/python/python_lists_comprehension.asp) or [here](https://www.geeksforgeeks.org/python-list-comprehension/)"
   ]
  },
  {
   "cell_type": "code",
   "execution_count": 38,
   "metadata": {
    "collapsed": false,
    "id": "MUKdvFMkw23G"
   },
   "outputs": [
    {
     "data": {
      "text/plain": [
       "[0, 1, 4, 9, 16]"
      ]
     },
     "execution_count": 38,
     "metadata": {},
     "output_type": "execute_result"
    }
   ],
   "source": [
    "[x**2 for x in range(5)]"
   ]
  },
  {
   "cell_type": "code",
   "execution_count": 39,
   "metadata": {
    "collapsed": false,
    "id": "uZcneAjXw23H"
   },
   "outputs": [
    {
     "data": {
      "text/plain": [
       "[(0, 0), (1, 1), (2, 4), (3, 9), (4, 16)]"
      ]
     },
     "execution_count": 39,
     "metadata": {},
     "output_type": "execute_result"
    }
   ],
   "source": [
    "[(x, x**2) for x in range(5)]"
   ]
  },
  {
   "cell_type": "code",
   "execution_count": 40,
   "metadata": {
    "collapsed": false,
    "id": "ZzJ7VzPpw23H"
   },
   "outputs": [
    {
     "data": {
      "text/plain": [
       "[(0, 0), (2, 4), (4, 16)]"
      ]
     },
     "execution_count": 40,
     "metadata": {},
     "output_type": "execute_result"
    }
   ],
   "source": [
    "[(x, x**2) for x in range(5) if x % 2 == 0]"
   ]
  },
  {
   "cell_type": "markdown",
   "metadata": {
    "collapsed": false,
    "id": "SmUptikQw23H"
   },
   "source": [
    "#### **Exercise**: write a list comprehension to collect all the strings with length 3"
   ]
  },
  {
   "cell_type": "code",
   "execution_count": 41,
   "metadata": {
    "collapsed": false,
    "executionInfo": {
     "elapsed": 220,
     "status": "ok",
     "timestamp": 1663960351822,
     "user": {
      "displayName": "Yanof Nasr",
      "userId": "00586970900925743666"
     },
     "user_tz": -120
    },
    "id": "IOh4BHGLw23H"
   },
   "outputs": [],
   "source": [
    "l = ['bacd', 'abc', 'ab', 'a', 'bcd', 'cdef', 'cde']"
   ]
  },
  {
   "cell_type": "code",
   "execution_count": 42,
   "metadata": {
    "collapsed": false,
    "id": "YM67fun9w23H"
   },
   "outputs": [
    {
     "data": {
      "text/plain": [
       "['abc', 'bcd', 'cde']"
      ]
     },
     "execution_count": 42,
     "metadata": {},
     "output_type": "execute_result"
    }
   ],
   "source": [
    "[x for x in l if len(x) == 3]"
   ]
  },
  {
   "cell_type": "markdown",
   "metadata": {
    "collapsed": false,
    "id": "MOGGND89w23H"
   },
   "source": [
    "## Sets and dictionaries"
   ]
  },
  {
   "cell_type": "markdown",
   "metadata": {
    "collapsed": false,
    "id": "XZ-ib2eBw23H"
   },
   "source": [
    "### Sets"
   ]
  },
  {
   "cell_type": "code",
   "execution_count": 43,
   "metadata": {
    "collapsed": false,
    "id": "KbGgV6sbw23H"
   },
   "outputs": [
    {
     "data": {
      "text/plain": [
       "{1, 2, 3, 4}"
      ]
     },
     "execution_count": 43,
     "metadata": {},
     "output_type": "execute_result"
    }
   ],
   "source": [
    "a = {1, 2, 3, 4}\n",
    "a"
   ]
  },
  {
   "cell_type": "code",
   "execution_count": 44,
   "metadata": {
    "collapsed": false,
    "id": "wczMs3dfw23I"
   },
   "outputs": [
    {
     "data": {
      "text/plain": [
       "{1, 2, 3, 4, 5}"
      ]
     },
     "execution_count": 44,
     "metadata": {},
     "output_type": "execute_result"
    }
   ],
   "source": [
    "a.add(5)\n",
    "a"
   ]
  },
  {
   "cell_type": "code",
   "execution_count": 45,
   "metadata": {
    "collapsed": false,
    "id": "nlK7_yspw23I"
   },
   "outputs": [
    {
     "data": {
      "text/plain": [
       "{1, 2, 3, 4, 5}"
      ]
     },
     "execution_count": 45,
     "metadata": {},
     "output_type": "execute_result"
    }
   ],
   "source": [
    "a.add(5)\n",
    "a"
   ]
  },
  {
   "cell_type": "code",
   "execution_count": 46,
   "metadata": {
    "collapsed": false,
    "id": "tz7hAQycw23I"
   },
   "outputs": [
    {
     "data": {
      "text/plain": [
       "[0, 1, 2, 3, 4, 0, 1, 2, 3, 4]"
      ]
     },
     "execution_count": 46,
     "metadata": {},
     "output_type": "execute_result"
    }
   ],
   "source": [
    "l = list(range(5)) + list(range(5))\n",
    "l"
   ]
  },
  {
   "cell_type": "code",
   "execution_count": 47,
   "metadata": {
    "collapsed": false,
    "id": "ZB2JlKvXw23I"
   },
   "outputs": [
    {
     "data": {
      "text/plain": [
       "{0, 1, 2, 3, 4}"
      ]
     },
     "execution_count": 47,
     "metadata": {},
     "output_type": "execute_result"
    }
   ],
   "source": [
    "set(l)"
   ]
  },
  {
   "cell_type": "code",
   "execution_count": 48,
   "metadata": {
    "collapsed": false,
    "id": "jtxX0irnw23I"
   },
   "outputs": [
    {
     "data": {
      "text/plain": [
       "(True, False)"
      ]
     },
     "execution_count": 48,
     "metadata": {},
     "output_type": "execute_result"
    }
   ],
   "source": [
    "3 in a, 13 in a"
   ]
  },
  {
   "cell_type": "code",
   "execution_count": 49,
   "metadata": {
    "collapsed": false,
    "id": "356RAmXyw23I"
   },
   "outputs": [
    {
     "name": "stdout",
     "output_type": "stream",
     "text": [
      "1\n",
      "2\n",
      "3\n",
      "4\n",
      "5\n"
     ]
    }
   ],
   "source": [
    "for e in a:\n",
    "    print(e)"
   ]
  },
  {
   "cell_type": "markdown",
   "metadata": {
    "collapsed": false,
    "id": "sKpMVzwXw23I"
   },
   "source": [
    "#### **Exercise**: Add the unique elements of l. If you already encountered an element, don't add it to the sum"
   ]
  },
  {
   "cell_type": "code",
   "execution_count": 60,
   "metadata": {
    "collapsed": false,
    "id": "yjCu4Dpcw23I"
   },
   "outputs": [],
   "source": [
    "l = [1, 1, 2, 3, 2, 4, 5, 2, 3]"
   ]
  },
  {
   "cell_type": "code",
   "execution_count": 72,
   "metadata": {},
   "outputs": [
    {
     "name": "stdout",
     "output_type": "stream",
     "text": [
      "[1, 2, 3, 4, 5]\n",
      "[1, 2, 3, 4, 5]\n"
     ]
    }
   ],
   "source": [
    "sett = {}\n",
    "for e in l:\n",
    "    sett[e] = 1\n",
    "se = [value for value in sett]\n",
    "se1 = [ x for i, x in enumerate(se) if x not in l[:i]]\n",
    "print (se1)\n",
    "print (se)"
   ]
  },
  {
   "cell_type": "code",
   "execution_count": 51,
   "metadata": {
    "collapsed": false,
    "id": "Pn_e3oeew23J"
   },
   "outputs": [
    {
     "name": "stdout",
     "output_type": "stream",
     "text": [
      "{1, 2, 3, 4, 5}\n",
      "15\n"
     ]
    }
   ],
   "source": [
    "sl = set(l)\n",
    "sum = 0\n",
    "for i in sl:\n",
    "    sum += i\n",
    "print (sl)\n",
    "print (sum)\n"
   ]
  },
  {
   "cell_type": "markdown",
   "metadata": {
    "collapsed": false,
    "id": "eNUBnw_uw23J"
   },
   "source": [
    "### Dictionaries"
   ]
  },
  {
   "cell_type": "code",
   "execution_count": 52,
   "metadata": {
    "collapsed": false,
    "id": "oOmWQRzBw23J"
   },
   "outputs": [
    {
     "data": {
      "text/plain": [
       "{'a': 1, 'b': 5}"
      ]
     },
     "execution_count": 52,
     "metadata": {},
     "output_type": "execute_result"
    }
   ],
   "source": [
    "d = {'a' : 1, 'b': 5}\n",
    "d"
   ]
  },
  {
   "cell_type": "code",
   "execution_count": 53,
   "metadata": {
    "collapsed": false,
    "id": "xdVNFNk2w23J"
   },
   "outputs": [
    {
     "data": {
      "text/plain": [
       "1"
      ]
     },
     "execution_count": 53,
     "metadata": {},
     "output_type": "execute_result"
    }
   ],
   "source": [
    "d['a']"
   ]
  },
  {
   "cell_type": "code",
   "execution_count": 54,
   "metadata": {
    "collapsed": false,
    "id": "RThmKeGOw23J"
   },
   "outputs": [],
   "source": [
    "d['c'] = 35"
   ]
  },
  {
   "cell_type": "markdown",
   "metadata": {
    "collapsed": false,
    "id": "efsw6eEPw23J"
   },
   "source": [
    "You can assign to any key, but can only access existing keys: `d['d']` would give an error."
   ]
  },
  {
   "cell_type": "code",
   "execution_count": 55,
   "metadata": {
    "collapsed": false,
    "id": "OXwkOJSRw23J"
   },
   "outputs": [
    {
     "name": "stdout",
     "output_type": "stream",
     "text": [
      "a 1\n",
      "b 5\n",
      "c 35\n"
     ]
    }
   ],
   "source": [
    "for key in d:\n",
    "    print(key, d[key])"
   ]
  },
  {
   "cell_type": "code",
   "execution_count": 56,
   "metadata": {
    "collapsed": false,
    "id": "Tn4ofK74w23J"
   },
   "outputs": [
    {
     "name": "stdout",
     "output_type": "stream",
     "text": [
      "a 1\n",
      "b 5\n",
      "c 35\n"
     ]
    }
   ],
   "source": [
    "for key, value in d.items():\n",
    "    print(key, value)"
   ]
  },
  {
   "cell_type": "markdown",
   "metadata": {
    "collapsed": false,
    "id": "Iski9o8Tw23K"
   },
   "source": [
    "### Set and dictionary comprehensions"
   ]
  },
  {
   "cell_type": "code",
   "execution_count": 57,
   "metadata": {
    "collapsed": false,
    "id": "G6XuO4SFw23K"
   },
   "outputs": [
    {
     "data": {
      "text/plain": [
       "{4, 16}"
      ]
     },
     "execution_count": 57,
     "metadata": {},
     "output_type": "execute_result"
    }
   ],
   "source": [
    "{x**2 for x in a if x % 2 == 0}"
   ]
  },
  {
   "cell_type": "code",
   "execution_count": 58,
   "metadata": {
    "collapsed": false,
    "id": "schf9b9Qw23K"
   },
   "outputs": [
    {
     "data": {
      "text/plain": [
       "{1: 1, 3: 9, 5: 25, 7: 49, 9: 81}"
      ]
     },
     "execution_count": 58,
     "metadata": {},
     "output_type": "execute_result"
    }
   ],
   "source": [
    "d = {x: x**2 for x in range(10) if x%2 == 1}\n",
    "d"
   ]
  },
  {
   "cell_type": "markdown",
   "metadata": {
    "collapsed": false,
    "id": "RycfIUTZw23K"
   },
   "source": [
    "#### **Exercise**: Invert the dictionary d. The keys should be the values, and the values should be the keys."
   ]
  },
  {
   "cell_type": "code",
   "execution_count": 59,
   "metadata": {
    "collapsed": false,
    "id": "IwsapKRxw23K"
   },
   "outputs": [
    {
     "name": "stdout",
     "output_type": "stream",
     "text": [
      "{1: 1, 9: 3, 25: 5, 49: 7, 81: 9}\n"
     ]
    }
   ],
   "source": [
    "d1 = {v:k for k, v in d.items()}\n",
    "print (d1)"
   ]
  },
  {
   "cell_type": "code",
   "execution_count": null,
   "metadata": {
    "collapsed": false
   },
   "outputs": [],
   "source": []
  }
 ],
 "metadata": {
  "colab": {
   "collapsed_sections": [],
   "provenance": [],
   "toc_visible": true
  },
  "kernelspec": {
   "display_name": "Python 3",
   "language": "python",
   "name": "python3"
  },
  "language_info": {
   "codemirror_mode": {
    "name": "ipython",
    "version": 3
   },
   "file_extension": ".py",
   "mimetype": "text/x-python",
   "name": "python",
   "nbconvert_exporter": "python",
   "pygments_lexer": "ipython3",
   "version": "3.10.10"
  },
  "vscode": {
   "interpreter": {
    "hash": "767d51c1340bd893661ea55ea3124f6de3c7a262a8b4abca0554b478b1e2ff90"
   }
  }
 },
 "nbformat": 4,
 "nbformat_minor": 4
}
